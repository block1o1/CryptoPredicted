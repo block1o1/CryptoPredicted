{
 "cells": [
  {
   "cell_type": "code",
   "execution_count": 1,
   "metadata": {},
   "outputs": [],
   "source": [
    "import json\n",
    "\n",
    "import sys\n",
    "\n",
    "sys.dont_write_bytecode = True\n",
    "\n",
    "import numpy as np\n",
    "\n",
    "import datetime\n",
    "\n",
    "import random\n",
    "\n",
    "import math\n",
    "\n",
    "import core"
   ]
  },
  {
   "cell_type": "code",
   "execution_count": 19,
   "metadata": {},
   "outputs": [],
   "source": [
    "base = \"BTC\"\n",
    "\n",
    "#base = \"ETH\"\n",
    "\n",
    "#base = \"LTC\"\n",
    "\n",
    "\n",
    "\n",
    "quote = \"USDT\"\n",
    "\n",
    "historymins = 60*24*30*4 #60*24*30*4\n",
    "\n",
    "interval = 10\n",
    "\n",
    "dtend = datetime.datetime.strptime('2018-04-24 00:00', '%Y-%m-%d %H:%M')\n",
    "\n",
    "dtstart = dtend - datetime.timedelta(minutes=historymins)\n",
    "\n",
    "inp = core.getPriceExchange_v1('binance', interval, base, quote, historymins, dtend)\n",
    "\n",
    "uncertainty_margin = 0.001"
   ]
  },
  {
   "cell_type": "code",
   "execution_count": 15,
   "metadata": {},
   "outputs": [],
   "source": [
    "dtit = dtstart\n",
    "idx  = datetime.datetime.strftime(dtit, '%Y-%m-%dT%H:%M')"
   ]
  },
  {
   "cell_type": "code",
   "execution_count": null,
   "metadata": {},
   "outputs": [],
   "source": [
    "print(inp)"
   ]
  },
  {
   "cell_type": "code",
   "execution_count": 9,
   "metadata": {},
   "outputs": [],
   "source": [
    "def portfolioToChart_OHLC(portfolio, traces=[], file=\"./chart.html\"):\n",
    "\n",
    "    # this will use the portfolio and its _buy/_sell entries to generate an OHLC chart.\n",
    "\n",
    "    import plotly\n",
    "\n",
    "    import plotly.plotly as py\n",
    "\n",
    "    import plotly.graph_objs as go\n",
    "\n",
    "\n",
    "\n",
    "    opens = []\n",
    "\n",
    "    highs = []\n",
    "\n",
    "    lows = []\n",
    "\n",
    "    closes = []\n",
    "    \n",
    "    Vols = []\n",
    "    \n",
    "    trades = []\n",
    "\n",
    "    dates = []\n",
    "\n",
    "    annons = []\n",
    "\n",
    "    \n",
    "    for key, obj in portfolio.items():\n",
    "\n",
    "        if key == \"_\": continue\n",
    "\n",
    "        # dt = datetime.datetime.strptime(key, '%Y-%m-%d %H:%M') # if you use this, then plotly will display local dates -- but you must parse it everywhere below as well !\n",
    "\n",
    "        dt = key\n",
    "\n",
    "        opens.append(obj['open'])\n",
    "\n",
    "        highs.append(obj['high'])\n",
    "\n",
    "        lows.append(obj['low'])\n",
    "\n",
    "        closes.append(obj['close'])\n",
    "        \n",
    "        Vols.append(obj['volume'])\n",
    "        \n",
    "        trades.append(obj['trades'])\n",
    "\n",
    "        dates.append( dt )\n",
    "       \n",
    "\n",
    "    data = []\n",
    "\n",
    "    trace = go.Candlestick(x=dates,\n",
    "\n",
    "                        open=opens,\n",
    "\n",
    "                        high=highs,\n",
    "\n",
    "                        low=lows,\n",
    "\n",
    "                        close=closes,\n",
    "\n",
    "                        opacity=0.5)\n",
    "\n",
    "    data.append(trace)\n",
    "\n",
    "\n",
    "    for t in traces:\n",
    "\n",
    "        trace = go.Scatter(\n",
    "\n",
    "            name = t['name'],\n",
    "\n",
    "            x = t['x'],\n",
    "\n",
    "            y = t['y'],\n",
    "\n",
    "            mode = 'lines', # +markers\n",
    "\n",
    "            yaxis = t['yaxis'],\n",
    "\n",
    "        )\n",
    "\n",
    "        data.append(trace)\n",
    "       \n",
    "\n",
    "    layout = go.Layout(\n",
    "\n",
    "        xaxis = dict(\n",
    "\n",
    "            rangeslider = dict(\n",
    "\n",
    "                visible = False\n",
    "\n",
    "            ),\n",
    "\n",
    "            type = \"date\",\n",
    "\n",
    "        ),\n",
    "\n",
    "        annotations = annons,\n",
    "\n",
    "       # dragmode = \"pan\"\n",
    "\n",
    "    )\n",
    "\n",
    "    \n",
    "    fig = go.Figure(data=data,layout=layout)\n",
    "    config = {'scrollZoom': True}\n",
    "    plotly.offline.plot(fig, config=config, filename=file)\n"
   ]
  },
  {
   "cell_type": "code",
   "execution_count": 20,
   "metadata": {
    "scrolled": true
   },
   "outputs": [],
   "source": [
    "portfolioToChart_OHLC(inp, traces=[], file=\"./chart.html\")"
   ]
  },
  {
   "cell_type": "code",
   "execution_count": 21,
   "metadata": {},
   "outputs": [],
   "source": [
    "import pandas as pd\n",
    "import collections"
   ]
  },
  {
   "cell_type": "code",
   "execution_count": 22,
   "metadata": {},
   "outputs": [],
   "source": [
    "#Code adopted from Ilya nevolin\n",
    "def flatten(d, parent_key='', sep='_'):\n",
    "    items = []\n",
    "    for k, v in d.items():\n",
    "        new_key = parent_key + sep + k if parent_key else k\n",
    "        if isinstance(v, collections.MutableMapping):\n",
    "            items.extend(flatten(v, new_key, sep=sep).items())\n",
    "        else:\n",
    "            items.append((new_key, v))\n",
    "    return dict(items)"
   ]
  },
  {
   "cell_type": "code",
   "execution_count": null,
   "metadata": {
    "scrolled": false
   },
   "outputs": [],
   "source": [
    "# flatten all beyond first level:\n",
    "for key in inp:\n",
    "    inp[key] = flatten(inp[key])\n",
    "\n",
    "# bamboo & pandas\n",
    "df = pd.DataFrame(inp, columns=inp.keys())\n",
    "df_T = df.T\n",
    "df_T = df_T.sort_index(ascending=False,inplace=False)\n",
    "df_T[:3]"
   ]
  },
  {
   "cell_type": "code",
   "execution_count": 69,
   "metadata": {
    "scrolled": false
   },
   "outputs": [],
   "source": [
    "def tech_indicators(data,ntime_per,m,n):\n",
    "    \n",
    "    h = data['high']\n",
    "\n",
    "    l = data['low']\n",
    "    \n",
    "    o = data['open']\n",
    "\n",
    "    c = data['close']\n",
    "    \n",
    "    Vol = data['volume']\n",
    "\n",
    "    TP = (h+l+c)/3\n",
    "    \n",
    "# Commodity Channel Index \n",
    "    CCI = pd.Series((TP - TP.rolling(window=ntime_per,center=False).mean()) / (0.015 * TP.rolling(window=ntime_per,center=False).std()),\n",
    "    name = 'CCI')\n",
    "    \n",
    "    data = data.join(CCI) \n",
    "\n",
    "# Ease of Movement \n",
    "    dm = ((h + l)/2) - ((h.shift(1) + l.shift(1))/2)\n",
    "\n",
    "    br = (Vol/ 100000000) / ((h - l))\n",
    "    \n",
    "    EVM = dm / br \n",
    "    \n",
    "    EVM_MA = pd.Series(EVM.rolling(window=ntime_per,center=False).mean(), name= 'EVM')\n",
    "    \n",
    "    data = data.join(EVM_MA)\n",
    "    \n",
    "# Rate of Change (ROC)\n",
    "\n",
    "    N = c.diff(m)\n",
    "\n",
    "    D = c.shift(m)\n",
    "\n",
    "    ROC = pd.Series(N/D,name='Rate of Change')\n",
    "\n",
    "    data = data.join(ROC)\n",
    "\n",
    "# Force Index \n",
    "\n",
    "    FI = pd.Series(c.diff(ntime_per) * Vol, name = 'ForceIndex') \n",
    "    data = data.join(FI) \n",
    "    \n",
    "# Golden Cross\n",
    "    \n",
    "    SMA = pd.Series(TP.rolling(window=m,center=False).mean(), name= 'SMA')\n",
    "    LMA = pd.Series(TP.rolling(window=n,center=False).mean(), name= 'LMA')\n",
    "    SMA2 = pd.Series(TP.rolling(window=m,center=False).mean().shift(1), name= 'SMA2')\n",
    "    LMA2 = pd.Series(TP.rolling(window=n,center=False).mean().shift(1), name= 'LMA2')\n",
    "    \n",
    "    data = data.join(SMA)\n",
    "    data = data.join(LMA)\n",
    "    data = data.join(SMA2)\n",
    "    data = data.join(LMA2)\n",
    "    data = data.iloc[n:]\n",
    "    \n",
    "    return(data)\n",
    "\n",
    "    "
   ]
  },
  {
   "cell_type": "code",
   "execution_count": null,
   "metadata": {
    "scrolled": false
   },
   "outputs": [],
   "source": [
    "CCI(df_T, 10)"
   ]
  },
  {
   "cell_type": "code",
   "execution_count": 26,
   "metadata": {},
   "outputs": [],
   "source": [
    "# Ease of Movement \n",
    "def EVM(data, ntime_per): \n",
    "    \n",
    "    h = data['high']\n",
    "\n",
    "    l = data['low']\n",
    "\n",
    "   \n",
    "\n",
    "    dm = ((h + l)/2) - ((h.shift(1) + l.shift(1))/2)\n",
    "\n",
    "    br = (Vol/ 100000000) / ((h - l))\n",
    "    \n",
    "    EVM = dm / br \n",
    "    \n",
    "    EVM_MA = pd.Series(EVM.rolling(window=ntime_per,center=False).mean(), name= 'EVM')\n",
    "    \n",
    "    data = data.join(EVM_MA) \n",
    "    \n",
    "    return data "
   ]
  },
  {
   "cell_type": "code",
   "execution_count": null,
   "metadata": {
    "scrolled": true
   },
   "outputs": [],
   "source": [
    "EVM(SMA"
   ]
  },
  {
   "cell_type": "code",
   "execution_count": 44,
   "metadata": {},
   "outputs": [],
   "source": [
    "# Golden Cross\n",
    "def Golden_Cross(data,m,n):\n",
    "    \n",
    "    h = data['high']\n",
    "\n",
    "    l = data['low']\n",
    "\n",
    "    c = data['close']\n",
    "\n",
    "    TP = (h+l+c)/3\n",
    "    \n",
    "    SMA = pd.Series(TP.rolling(window=m,center=False).mean(), name= 'SMA')\n",
    "    LMA = pd.Series(TP.rolling(window=n,center=False).mean(), name= 'LMA')\n",
    "    SMA2 = pd.Series(TP.rolling(window=m,center=False).mean().shift(1), name= 'SMA2')\n",
    "    LMA2 = pd.Series(TP.rolling(window=n,center=False).mean().shift(1), name= 'LMA2')\n",
    "    \n",
    "    data = data.join(SMA)\n",
    "    data = data.join(LMA)\n",
    "    data = data.join(SMA2)\n",
    "    data = data.join(LMA2)\n",
    "    data = data.iloc[n:]\n",
    "    \n",
    "    return(data)"
   ]
  },
  {
   "cell_type": "code",
   "execution_count": null,
   "metadata": {},
   "outputs": [],
   "source": [
    "Golden_Cross(df_T,10,30)"
   ]
  },
  {
   "cell_type": "code",
   "execution_count": null,
   "metadata": {
    "scrolled": true
   },
   "outputs": [],
   "source": [
    "tech_indicators(df_T,10,18,144)"
   ]
  },
  {
   "cell_type": "code",
   "execution_count": 71,
   "metadata": {},
   "outputs": [],
   "source": [
    "data = tech_indicators(df_T,10,6,18)\n",
    "data['Buy'] = data.apply(lambda x: 1 if x['SMA'] > x['LMA'] and x['SMA2'] < x['LMA2'] else 0,axis =1)\n",
    "data['Sell'] = data.apply(lambda y: -1 if y['SMA'] < y['LMA'] and y['SMA2'] > y['LMA2'] else 0,axis =1)\n",
    "data['Signal'] = data['Buy'] + data['Sell'] "
   ]
  },
  {
   "cell_type": "code",
   "execution_count": 73,
   "metadata": {},
   "outputs": [
    {
     "name": "stdout",
     "output_type": "stream",
     "text": [
      "                    close  count     high      low     open  trades  \\\n",
      "2018-04-23T21:00  8914.42   10.0  8924.11  8912.00  8924.11   974.0   \n",
      "2018-04-23T20:50  8924.11   10.0  8928.00  8904.01  8912.00  1135.0   \n",
      "2018-04-23T20:40  8909.02   10.0  8920.00  8889.97  8915.00  1108.0   \n",
      "2018-04-23T20:30  8915.00   10.0  8915.00  8867.01  8868.00  1359.0   \n",
      "2018-04-23T20:20  8868.00   10.0  8880.00  8858.00  8869.27  1129.0   \n",
      "\n",
      "                      volume         CCI           EVM  Rate of Change  \\\n",
      "2018-04-23T21:00  124.567874  -50.989764 -2.253161e+07       -0.002750   \n",
      "2018-04-23T20:50  174.239904  -26.356408 -2.560213e+07        0.000236   \n",
      "2018-04-23T20:40  149.788528 -102.948604 -3.260356e+07       -0.001119   \n",
      "2018-04-23T20:30  154.731979 -117.682306 -8.492977e+07        0.000944   \n",
      "2018-04-23T20:20  109.915304 -171.397177 -1.313850e+08       -0.006310   \n",
      "\n",
      "                   ForceIndex          SMA          LMA         SMA2  \\\n",
      "2018-04-23T21:00 -1827.410712  8917.348889  8922.334815  8920.696667   \n",
      "2018-04-23T20:50 -1548.992747  8917.254444  8921.372407  8917.348889   \n",
      "2018-04-23T20:40 -3142.563317  8915.650556  8920.409444  8917.254444   \n",
      "2018-04-23T20:30 -1702.051769  8913.482222  8919.798519  8915.650556   \n",
      "2018-04-23T20:20 -7803.986584  8904.871667  8917.665741  8913.482222   \n",
      "\n",
      "                         LMA2  Buy  Sell  Signal  \n",
      "2018-04-23T21:00  8923.802593    0     0       0  \n",
      "2018-04-23T20:50  8922.334815    0     0       0  \n",
      "2018-04-23T20:40  8921.372407    0     0       0  \n",
      "2018-04-23T20:30  8920.409444    0     0       0  \n",
      "2018-04-23T20:20  8919.798519    0     0       0  \n"
     ]
    }
   ],
   "source": [
    "print(data.head())"
   ]
  },
  {
   "cell_type": "code",
   "execution_count": null,
   "metadata": {},
   "outputs": [],
   "source": []
  }
 ],
 "metadata": {
  "kernelspec": {
   "display_name": "Python 3",
   "language": "python",
   "name": "python3"
  },
  "language_info": {
   "codemirror_mode": {
    "name": "ipython",
    "version": 3
   },
   "file_extension": ".py",
   "mimetype": "text/x-python",
   "name": "python",
   "nbconvert_exporter": "python",
   "pygments_lexer": "ipython3",
   "version": "3.5.4"
  }
 },
 "nbformat": 4,
 "nbformat_minor": 2
}
